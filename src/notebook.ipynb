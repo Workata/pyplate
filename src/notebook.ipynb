{
 "cells": [
  {
   "attachments": {},
   "cell_type": "markdown",
   "metadata": {},
   "source": [
    "## Python project template overview"
   ]
  },
  {
   "attachments": {},
   "cell_type": "markdown",
   "metadata": {},
   "source": [
    "#### Access pydantic settings from .env file"
   ]
  },
  {
   "cell_type": "code",
   "execution_count": 4,
   "metadata": {},
   "outputs": [
    {
     "name": "stdout",
     "output_type": "stream",
     "text": [
      "Settings content: \n",
      "dev\n"
     ]
    }
   ],
   "source": [
    "from config import get_settings\n",
    "\n",
    "\n",
    "settings = get_settings()\n",
    "\n",
    "print(f\"Env: \\n{settings.environment}\")"
   ]
  },
  {
   "attachments": {},
   "cell_type": "markdown",
   "metadata": {},
   "source": [
    "#### Use built in python logging with custom settings"
   ]
  },
  {
   "cell_type": "code",
   "execution_count": 2,
   "metadata": {},
   "outputs": [
    {
     "name": "stderr",
     "output_type": "stream",
     "text": [
      "[INFO] log something\n"
     ]
    }
   ],
   "source": [
    "import logging\n",
    "\n",
    "logging.config.dictConfig(settings.logging)\n",
    "\n",
    "logger = logging.getLogger(\"general\")\n",
    "logger.info(\"log something\")"
   ]
  },
  {
   "attachments": {},
   "cell_type": "markdown",
   "metadata": {},
   "source": [
    "#### Use config loader to load simple yaml configuration"
   ]
  },
  {
   "cell_type": "code",
   "execution_count": 3,
   "metadata": {},
   "outputs": [
    {
     "name": "stdout",
     "output_type": "stream",
     "text": [
      "{'instance_file_path': './instances/example1.txt', 'conf': {'name': 'a', 'example_list_1': ['a', 'b', 'c'], 'example_list_2': ['a', 'b', 'c']}}\n"
     ]
    }
   ],
   "source": [
    "from loaders import ConfigLoader\n",
    "\n",
    "\n",
    "config = ConfigLoader.load(config_file_path=\"./config_example.yaml\")\n",
    "print(config)"
   ]
  },
  {
   "attachments": {},
   "cell_type": "markdown",
   "metadata": {},
   "source": [
    "#### Working dir is set for project root"
   ]
  },
  {
   "cell_type": "code",
   "execution_count": 4,
   "metadata": {},
   "outputs": [
    {
     "name": "stdout",
     "output_type": "stream",
     "text": [
      "/workspace\n"
     ]
    }
   ],
   "source": [
    "import os\n",
    "\n",
    "\n",
    "# * get the current working directory\n",
    "directory = os.getcwd()\n",
    "print(directory)"
   ]
  }
 ],
 "metadata": {
  "kernelspec": {
   "display_name": "Python 3",
   "language": "python",
   "name": "python3"
  },
  "language_info": {
   "codemirror_mode": {
    "name": "ipython",
    "version": 3
   },
   "file_extension": ".py",
   "mimetype": "text/x-python",
   "name": "python",
   "nbconvert_exporter": "python",
   "pygments_lexer": "ipython3",
   "version": "3.11.3"
  },
  "orig_nbformat": 4,
  "vscode": {
   "interpreter": {
    "hash": "949777d72b0d2535278d3dc13498b2535136f6dfe0678499012e853ee9abcab1"
   }
  }
 },
 "nbformat": 4,
 "nbformat_minor": 2
}
